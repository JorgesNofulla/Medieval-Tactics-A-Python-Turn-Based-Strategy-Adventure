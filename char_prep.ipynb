{
 "cells": [
  {
   "cell_type": "code",
   "execution_count": 15,
   "metadata": {},
   "outputs": [
    {
     "name": "stdout",
     "output_type": "stream",
     "text": [
      "1024 224\n",
      "1024 224\n",
      "1024 224\n",
      "1024 224\n"
     ]
    }
   ],
   "source": [
    "from PIL import Image\n",
    "\n",
    "\n",
    "    def convert_white_to_transparency(img):\n",
    "        \"\"\"Convert white background to transparency.\"\"\"\n",
    "        img = img.convert(\"RGBA\")\n",
    "        datas = img.getdata()\n",
    "        new_data = []\n",
    "\n",
    "        for item in datas:\n",
    "            # Change all white (also shades of whites)\n",
    "            # pixels to transparent\n",
    "            if item[1] > 200 and item[0] < 100 and item[2] < 100:\n",
    "                new_data.append((255, 255, 255, 0))\n",
    "            else:\n",
    "                new_data.append(item)\n",
    "\n",
    "        img.putdata(new_data)\n",
    "        return img\n",
    "\n",
    "\n",
    "\n",
    "def cut_sprites_from_image(image_path, output_folder):\n",
    "    # Open the image\n",
    "    with Image.open(image_path) as img:\n",
    "        # The sprites are evenly spaced with four horizontal sprites\n",
    "        sprite_width = img.width // 8\n",
    "        sprite_height = img.height\n",
    "\n",
    "        for i in range(4):\n",
    "            left = i * sprite_width\n",
    "            top = sprite_height//3 + 12\n",
    "            right = left + sprite_width\n",
    "            bottom = 2*sprite_height//3\n",
    "            \n",
    "            sprite = img.crop((left, top, right, bottom))\n",
    "            sprite = convert_white_to_transparency(sprite)\n",
    "            # Save the sprite with a transparent background\n",
    "            sprite_filename = f\"{output_folder}/seraphina_sprite_{i+1}.png\"\n",
    "            sprite.save(sprite_filename, \"PNG\")\n",
    "            print(sprite_height,sprite_width)\n",
    "# Example usage\n",
    "cut_sprites_from_image('C:/DevOps/Data/battle_g/char/seraph.png', 'C:/DevOps/Data/battle_g/char')\n"
   ]
  },
  {
   "cell_type": "code",
   "execution_count": 5,
   "metadata": {},
   "outputs": [],
   "source": [
    "from PIL import Image\n",
    "import numpy as np\n",
    "\n",
    "def remove_white_pixels(image_path, output_path):\n",
    "    # Load the image\n",
    "    img = Image.open(image_path)\n",
    "    img = img.convert(\"RGBA\")  # Ensure it's in RGBA format\n",
    "\n",
    "    # Convert image to NumPy array\n",
    "    data = np.array(img)\n",
    "\n",
    "    # Define the range for white pixels (you can adjust the threshold)\n",
    "    white = [255, 255, 255, 255]\n",
    "    lower_threshold = np.array([240, 240, 240, 255])\n",
    "    upper_threshold = np.array([255, 255, 255, 255])\n",
    "\n",
    "    # Set white (or almost white) pixels to transparent (alpha = 0)\n",
    "    white_pixels = np.all(data >= lower_threshold, axis=-1) & np.all(data <= upper_threshold, axis=-1)\n",
    "    data[white_pixels] = [0, 0, 0, 0]  # Change white pixels to transparent\n",
    "\n",
    "    # Convert array back to image\n",
    "    img = Image.fromarray(data)\n",
    "\n",
    "    # Save the image\n",
    "    img.save(output_path, format='PNG')\n",
    "\n",
    "# Example usage\n",
    "remove_white_pixels('C:/DevOps/Data/battle_g/char/3.png', 'C:/DevOps/Data/battle_g/char/04.png')\n"
   ]
  },
  {
   "cell_type": "code",
   "execution_count": 19,
   "metadata": {},
   "outputs": [
    {
     "name": "stdout",
     "output_type": "stream",
     "text": [
      "True\n",
      "False\n",
      "None\n"
     ]
    }
   ],
   "source": [
    "def is_int(data):\n",
    "    if type(data) == int:\n",
    "        return True\n",
    "    elif type(data) == float:\n",
    "        return False\n",
    "\n",
    "print(is_int(5))\n",
    "print(is_int(5.0))\n",
    "print(is_int(\"5\"))"
   ]
  },
  {
   "cell_type": "code",
   "execution_count": 37,
   "metadata": {},
   "outputs": [],
   "source": [
    "tup = 1,\n",
    "\n",
    "tup_2 = (1,2,3)"
   ]
  },
  {
   "cell_type": "code",
   "execution_count": 38,
   "metadata": {},
   "outputs": [
    {
     "name": "stdout",
     "output_type": "stream",
     "text": [
      "<class 'tuple'>\n",
      "<class 'tuple'>\n"
     ]
    }
   ],
   "source": [
    "print(type(tup))\n",
    "print(type(tup_2))"
   ]
  },
  {
   "cell_type": "code",
   "execution_count": 42,
   "metadata": {},
   "outputs": [
    {
     "ename": "TypeError",
     "evalue": "'tuple' object does not support item assignment",
     "output_type": "error",
     "traceback": [
      "\u001b[1;31m---------------------------------------------------------------------------\u001b[0m",
      "\u001b[1;31mTypeError\u001b[0m                                 Traceback (most recent call last)",
      "\u001b[1;32mc:\\DevOps\\Code\\G_test\\char_prep.ipynb Cell 6\u001b[0m line \u001b[0;36m1\n\u001b[1;32m----> <a href='vscode-notebook-cell:/c%3A/DevOps/Code/G_test/char_prep.ipynb#X20sZmlsZQ%3D%3D?line=0'>1</a>\u001b[0m tup_2[\u001b[39m1\u001b[39;49m] \u001b[39m=\u001b[39mtup_2[\u001b[39m1\u001b[39m] \u001b[39m+\u001b[39m tup_2[\u001b[39m0\u001b[39m]\n",
      "\u001b[1;31mTypeError\u001b[0m: 'tuple' object does not support item assignment"
     ]
    }
   ],
   "source": [
    "tup_2[1] =tup_2[1] + tup_2[0]"
   ]
  },
  {
   "cell_type": "code",
   "execution_count": 41,
   "metadata": {},
   "outputs": [
    {
     "ename": "TypeError",
     "evalue": "unsupported operand type(s) for /: 'int' and 'str'",
     "output_type": "error",
     "traceback": [
      "\u001b[1;31m---------------------------------------------------------------------------\u001b[0m",
      "\u001b[1;31mTypeError\u001b[0m                                 Traceback (most recent call last)",
      "\u001b[1;32mc:\\DevOps\\Code\\G_test\\char_prep.ipynb Cell 6\u001b[0m line \u001b[0;36m2\n\u001b[0;32m      <a href='vscode-notebook-cell:/c%3A/DevOps/Code/G_test/char_prep.ipynb#X15sZmlsZQ%3D%3D?line=0'>1</a>\u001b[0m value \u001b[39m=\u001b[39m \u001b[39minput\u001b[39m(\u001b[39m\"\u001b[39m\u001b[39m\"\u001b[39m)\n\u001b[1;32m----> <a href='vscode-notebook-cell:/c%3A/DevOps/Code/G_test/char_prep.ipynb#X15sZmlsZQ%3D%3D?line=1'>2</a>\u001b[0m \u001b[39mprint\u001b[39m(\u001b[39m10\u001b[39;49m\u001b[39m/\u001b[39;49mvalue)\n",
      "\u001b[1;31mTypeError\u001b[0m: unsupported operand type(s) for /: 'int' and 'str'"
     ]
    }
   ],
   "source": [
    "value = input(\"\")\n",
    "print(10/value)"
   ]
  },
  {
   "cell_type": "code",
   "execution_count": 43,
   "metadata": {},
   "outputs": [
    {
     "data": {
      "text/plain": [
       "(0, 3, 1)"
      ]
     },
     "execution_count": 43,
     "metadata": {},
     "output_type": "execute_result"
    }
   ],
   "source": [
    "def funs(x,y,z):\n",
    "    return x,y,z\n",
    "\n",
    "funs(0,z=1,y=3)"
   ]
  },
  {
   "cell_type": "code",
   "execution_count": 49,
   "metadata": {},
   "outputs": [
    {
     "name": "stdout",
     "output_type": "stream",
     "text": [
      "(2, 2)\n"
     ]
    }
   ],
   "source": [
    "def f(x=1,y=2):\n",
    "    x+= 1\n",
    "    return x,y\n",
    "\n",
    "\n",
    "print(f(x=1))"
   ]
  },
  {
   "cell_type": "code",
   "execution_count": 50,
   "metadata": {},
   "outputs": [
    {
     "ename": "TypeError",
     "evalue": "unsupported operand type(s) for +: 'NoneType' and 'NoneType'",
     "output_type": "error",
     "traceback": [
      "\u001b[1;31m---------------------------------------------------------------------------\u001b[0m",
      "\u001b[1;31mTypeError\u001b[0m                                 Traceback (most recent call last)",
      "\u001b[1;32mc:\\DevOps\\Code\\G_test\\char_prep.ipynb Cell 10\u001b[0m line \u001b[0;36m1\n\u001b[1;32m----> <a href='vscode-notebook-cell:/c%3A/DevOps/Code/G_test/char_prep.ipynb#X22sZmlsZQ%3D%3D?line=0'>1</a>\u001b[0m \u001b[39mprint\u001b[39m(\u001b[39mNone\u001b[39;49;00m \u001b[39m+\u001b[39;49m \u001b[39mNone\u001b[39;49;00m)\n",
      "\u001b[1;31mTypeError\u001b[0m: unsupported operand type(s) for +: 'NoneType' and 'NoneType'"
     ]
    }
   ],
   "source": [
    "print(None + None)"
   ]
  },
  {
   "cell_type": "code",
   "execution_count": 59,
   "metadata": {},
   "outputs": [
    {
     "name": "stdout",
     "output_type": "stream",
     "text": [
      "('a',)\n",
      "('b',)\n",
      "('c',)\n"
     ]
    }
   ],
   "source": [
    "dict= {}\n",
    "lis = ['a','b','c','d']\n",
    "\n",
    "for i in range(len(lis) - 1):\n",
    "    dict[lis[i]]= (lis[i],)\n",
    "\n",
    "for i in sorted(dict.keys()):\n",
    "    k = dict[i]\n",
    "    print(k)"
   ]
  },
  {
   "cell_type": "code",
   "execution_count": null,
   "metadata": {},
   "outputs": [],
   "source": []
  }
 ],
 "metadata": {
  "kernelspec": {
   "display_name": "venv",
   "language": "python",
   "name": "python3"
  },
  "language_info": {
   "codemirror_mode": {
    "name": "ipython",
    "version": 3
   },
   "file_extension": ".py",
   "mimetype": "text/x-python",
   "name": "python",
   "nbconvert_exporter": "python",
   "pygments_lexer": "ipython3",
   "version": "3.11.6"
  }
 },
 "nbformat": 4,
 "nbformat_minor": 2
}
