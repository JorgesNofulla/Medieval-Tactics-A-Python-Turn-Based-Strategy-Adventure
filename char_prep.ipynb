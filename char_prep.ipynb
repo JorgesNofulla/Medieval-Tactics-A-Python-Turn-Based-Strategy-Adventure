{
 "cells": [
  {
   "cell_type": "code",
   "execution_count": 4,
   "metadata": {},
   "outputs": [
    {
     "name": "stdout",
     "output_type": "stream",
     "text": [
      "Saved sprite 1 at new/sprite_1.png\n",
      "Saved sprite 2 at new/sprite_2.png\n",
      "Saved sprite 3 at new/sprite_3.png\n",
      "Saved sprite 4 at new/sprite_4.png\n",
      "Saved sprite 5 at new/sprite_5.png\n",
      "Saved sprite 6 at new/sprite_6.png\n",
      "Saved sprite 7 at new/sprite_7.png\n",
      "Saved sprite 8 at new/sprite_8.png\n",
      "Saved sprite 9 at new/sprite_9.png\n",
      "Saved sprite 10 at new/sprite_10.png\n",
      "Saved sprite 11 at new/sprite_11.png\n",
      "Saved sprite 12 at new/sprite_12.png\n",
      "Saved sprite 13 at new/sprite_13.png\n",
      "Saved sprite 14 at new/sprite_14.png\n",
      "Saved sprite 15 at new/sprite_15.png\n"
     ]
    }
   ],
   "source": [
    "from PIL import Image\n",
    "\n",
    "\n",
    "def convert_white_to_transparency(img):\n",
    "    \"\"\"Convert white background to transparency.\"\"\"\n",
    "    img = img.convert(\"RGBA\")\n",
    "    datas = img.getdata()\n",
    "    new_data = []\n",
    "\n",
    "    for item in datas:\n",
    "        # Change all white (also shades of whites)\n",
    "        # pixels to transparent\n",
    "        if item[1] > 200 and item[0] < 100 and item[2] < 100:\n",
    "            new_data.append((255, 255, 255, 0))\n",
    "        else:\n",
    "            new_data.append(item)\n",
    "\n",
    "    img.putdata(new_data)\n",
    "    return img\n",
    "\n",
    "\n",
    "def cut_sprites_from_image(image_path, output_folder):\n",
    "    # Open the image\n",
    "    with Image.open(image_path) as img:\n",
    "        # Calculate dimensions for each sprite\n",
    "        sprite_width = img.width // 5\n",
    "        sprite_height = img.height // 3\n",
    "\n",
    "        # Loop over rows and columns to crop each sprite\n",
    "        sprite_index = 1\n",
    "        for row in range(3):  # 3 rows horizontally\n",
    "            for col in range(5):  # 5 columns vertically\n",
    "                left = col * sprite_width\n",
    "                top = row * sprite_height\n",
    "                right = left + sprite_width\n",
    "                bottom = top + sprite_height\n",
    "\n",
    "                # Crop the sprite\n",
    "                sprite = img.crop((left, top, right, bottom))\n",
    "                sprite = convert_white_to_transparency(sprite)\n",
    "\n",
    "                # Save the sprite with a transparent background\n",
    "                sprite_filename = f\"{output_folder}/sprite_{sprite_index}.png\"\n",
    "                sprite.save(sprite_filename, \"PNG\")\n",
    "                print(f\"Saved sprite {sprite_index} at {sprite_filename}\")\n",
    "                sprite_index += 1\n",
    "\n",
    "# Example usage\n",
    "cut_sprites_from_image('new_char.png', 'new')\n"
   ]
  },
  {
   "cell_type": "code",
   "execution_count": 9,
   "metadata": {},
   "outputs": [
    {
     "name": "stdout",
     "output_type": "stream",
     "text": [
      "Processed and saved: new\\sprite_0_clean.png\n",
      "Processed and saved: new\\sprite_1_clean.png\n",
      "Processed and saved: new\\sprite_2_clean.png\n",
      "Processed and saved: new\\sprite_3_clean.png\n",
      "Processed and saved: new\\sprite_4_clean.png\n",
      "Processed and saved: new\\sprite_5_clean.png\n"
     ]
    }
   ],
   "source": [
    "from PIL import Image\n",
    "import numpy as np\n",
    "import os\n",
    "\n",
    "def remove_white_pixels(image_path, output_path):\n",
    "    # Load the image\n",
    "    img = Image.open(image_path)\n",
    "    img = img.convert(\"RGBA\")  # Ensure it's in RGBA format\n",
    "\n",
    "    # Convert image to NumPy array\n",
    "    data = np.array(img)\n",
    "    # Provided RGBA values\n",
    "    rgba = np.array([235, 237, 227, 255])\n",
    "\n",
    "    # Calculate a reasonable threshold range around the given RGBA value\n",
    "    # Adjusting by ±10 for color channels to get a lower and upper threshold\n",
    "\n",
    "    threshold_offset = 10\n",
    "    lower_threshold = np.clip(rgba - threshold_offset, 0, 255)\n",
    "    upper_threshold = np.clip(rgba + threshold_offset, 0, 255)\n",
    "\n",
    "    lower_threshold, upper_threshold\n",
    "\n",
    "    # Set white (or almost white) pixels to transparent (alpha = 0)\n",
    "    white_pixels = np.all(data >= lower_threshold, axis=-1) & np.all(data <= upper_threshold, axis=-1)\n",
    "    data[white_pixels] = [0, 0, 0, 0]  # Change white pixels to transparent\n",
    "\n",
    "    # Convert array back to image\n",
    "    img = Image.fromarray(data)\n",
    "\n",
    "    # Save the image\n",
    "    img.save(output_path, format='PNG')\n",
    "\n",
    "def process_folder(input_folder):\n",
    "    # Loop over each file in the input folder\n",
    "    for filename in os.listdir(input_folder):\n",
    "        if filename.endswith(\".png\"):  # Process only PNG files\n",
    "            image_path = os.path.join(input_folder, filename)\n",
    "            output_filename = f\"{os.path.splitext(filename)[0]}_clean.png\"\n",
    "            output_path = os.path.join(input_folder, output_filename)\n",
    "\n",
    "            # Remove white pixels and save the cleaned image\n",
    "            remove_white_pixels(image_path, output_path)\n",
    "            print(f\"Processed and saved: {output_path}\")\n",
    "\n",
    "# Example usage\n",
    "process_folder('new')\n"
   ]
  },
  {
   "cell_type": "code",
   "execution_count": 8,
   "metadata": {},
   "outputs": [
    {
     "name": "stdout",
     "output_type": "stream",
     "text": [
      "Cropped and saved: new\\sprite_10_clean_cropped.png\n",
      "Cropped and saved: new\\sprite_11_clean_cropped.png\n",
      "Cropped and saved: new\\sprite_12_clean_cropped.png\n",
      "Cropped and saved: new\\sprite_13_clean_cropped.png\n",
      "Cropped and saved: new\\sprite_14_clean_cropped.png\n",
      "Cropped and saved: new\\sprite_15_clean_cropped.png\n",
      "Cropped and saved: new\\sprite_1_clean_cropped.png\n",
      "Cropped and saved: new\\sprite_2_clean_cropped.png\n",
      "Cropped and saved: new\\sprite_3_clean_cropped.png\n",
      "Cropped and saved: new\\sprite_4_clean_cropped.png\n",
      "Cropped and saved: new\\sprite_5_clean_cropped.png\n",
      "Cropped and saved: new\\sprite_6_clean_cropped.png\n",
      "Cropped and saved: new\\sprite_7_clean_cropped.png\n",
      "Cropped and saved: new\\sprite_8_clean_cropped.png\n",
      "Cropped and saved: new\\sprite_9_clean_cropped.png\n"
     ]
    }
   ],
   "source": [
    "from PIL import Image\n",
    "import os\n",
    "\n",
    "def crop_image(image_path, output_path, top_percent=0., bottom_percent=0.1):\n",
    "    # Load the image\n",
    "    img = Image.open(image_path)\n",
    "    width, height = img.size\n",
    "\n",
    "    # Calculate cropping dimensions\n",
    "    top_crop = int(height * top_percent)\n",
    "    bottom_crop = int(height * bottom_percent)\n",
    "\n",
    "    # Define the new cropped area\n",
    "    left = 0\n",
    "    top = top_crop\n",
    "    right = width\n",
    "    bottom = height - bottom_crop\n",
    "\n",
    "    # Crop the image\n",
    "    cropped_img = img.crop((left, top, right, bottom))\n",
    "\n",
    "    # Save the cropped image\n",
    "    cropped_img.save(output_path, format='PNG')\n",
    "\n",
    "def process_cropped_folder(input_folder):\n",
    "    # Loop over each '_clean' file in the input folder\n",
    "    for filename in os.listdir(input_folder):\n",
    "        if filename.endswith(\"_clean.png\"):  # Process only '_clean' PNG files\n",
    "            image_path = os.path.join(input_folder, filename)\n",
    "            output_filename = f\"{os.path.splitext(filename)[0]}_cropped.png\"\n",
    "            output_path = os.path.join(input_folder, output_filename)\n",
    "\n",
    "            # Crop the image and save\n",
    "            crop_image(image_path, output_path)\n",
    "            print(f\"Cropped and saved: {output_path}\")\n",
    "\n",
    "# Example usage\n",
    "process_cropped_folder('new')\n"
   ]
  },
  {
   "cell_type": "code",
   "execution_count": 11,
   "metadata": {},
   "outputs": [
    {
     "name": "stdout",
     "output_type": "stream",
     "text": [
      "Mirrored images saved in: char/Idle\n"
     ]
    }
   ],
   "source": [
    "from PIL import Image\n",
    "import os\n",
    "\n",
    "# Directory paths\n",
    "input_dir = 'char/Idle'  # Replace with the path to your images repository\n",
    "output_dir = 'char/Idle'  # Replace with the path where you want to save mirrored images\n",
    "\n",
    "# Create the output directory if it doesn't exist\n",
    "os.makedirs(output_dir, exist_ok=True)\n",
    "\n",
    "# Loop over all files in the input directory\n",
    "for filename in os.listdir(input_dir):\n",
    "    # Full path to the image\n",
    "    file_path = os.path.join(input_dir, filename)\n",
    "    \n",
    "    # Check if the file is an image\n",
    "    if filename.endswith(('.png', '.jpg', '.jpeg', '.bmp', '.gif', '.tiff')):\n",
    "        # Open the image\n",
    "        with Image.open(file_path) as img:\n",
    "            # Mirror the image horizontally\n",
    "            mirrored_img = img.transpose(Image.FLIP_LEFT_RIGHT)\n",
    "            \n",
    "            # Save the mirrored image with the same filename in the output directory\n",
    "            mirrored_img.save(os.path.join(output_dir, filename))\n",
    "\n",
    "print(\"Mirrored images saved in:\", output_dir)\n"
   ]
  },
  {
   "cell_type": "code",
   "execution_count": 19,
   "metadata": {},
   "outputs": [
    {
     "name": "stdout",
     "output_type": "stream",
     "text": [
      "True\n",
      "False\n",
      "None\n"
     ]
    }
   ],
   "source": [
    "def is_int(data):\n",
    "    if type(data) == int:\n",
    "        return True\n",
    "    elif type(data) == float:\n",
    "        return False\n",
    "\n",
    "print(is_int(5))\n",
    "print(is_int(5.0))\n",
    "print(is_int(\"5\"))"
   ]
  },
  {
   "cell_type": "code",
   "execution_count": 37,
   "metadata": {},
   "outputs": [],
   "source": [
    "tup = 1,\n",
    "\n",
    "tup_2 = (1,2,3)"
   ]
  },
  {
   "cell_type": "code",
   "execution_count": 38,
   "metadata": {},
   "outputs": [
    {
     "name": "stdout",
     "output_type": "stream",
     "text": [
      "<class 'tuple'>\n",
      "<class 'tuple'>\n"
     ]
    }
   ],
   "source": [
    "print(type(tup))\n",
    "print(type(tup_2))"
   ]
  },
  {
   "cell_type": "code",
   "execution_count": 42,
   "metadata": {},
   "outputs": [
    {
     "ename": "TypeError",
     "evalue": "'tuple' object does not support item assignment",
     "output_type": "error",
     "traceback": [
      "\u001b[1;31m---------------------------------------------------------------------------\u001b[0m",
      "\u001b[1;31mTypeError\u001b[0m                                 Traceback (most recent call last)",
      "\u001b[1;32mc:\\DevOps\\Code\\G_test\\char_prep.ipynb Cell 6\u001b[0m line \u001b[0;36m1\n\u001b[1;32m----> <a href='vscode-notebook-cell:/c%3A/DevOps/Code/G_test/char_prep.ipynb#X20sZmlsZQ%3D%3D?line=0'>1</a>\u001b[0m tup_2[\u001b[39m1\u001b[39;49m] \u001b[39m=\u001b[39mtup_2[\u001b[39m1\u001b[39m] \u001b[39m+\u001b[39m tup_2[\u001b[39m0\u001b[39m]\n",
      "\u001b[1;31mTypeError\u001b[0m: 'tuple' object does not support item assignment"
     ]
    }
   ],
   "source": [
    "tup_2[1] =tup_2[1] + tup_2[0]"
   ]
  },
  {
   "cell_type": "code",
   "execution_count": 41,
   "metadata": {},
   "outputs": [
    {
     "ename": "TypeError",
     "evalue": "unsupported operand type(s) for /: 'int' and 'str'",
     "output_type": "error",
     "traceback": [
      "\u001b[1;31m---------------------------------------------------------------------------\u001b[0m",
      "\u001b[1;31mTypeError\u001b[0m                                 Traceback (most recent call last)",
      "\u001b[1;32mc:\\DevOps\\Code\\G_test\\char_prep.ipynb Cell 6\u001b[0m line \u001b[0;36m2\n\u001b[0;32m      <a href='vscode-notebook-cell:/c%3A/DevOps/Code/G_test/char_prep.ipynb#X15sZmlsZQ%3D%3D?line=0'>1</a>\u001b[0m value \u001b[39m=\u001b[39m \u001b[39minput\u001b[39m(\u001b[39m\"\u001b[39m\u001b[39m\"\u001b[39m)\n\u001b[1;32m----> <a href='vscode-notebook-cell:/c%3A/DevOps/Code/G_test/char_prep.ipynb#X15sZmlsZQ%3D%3D?line=1'>2</a>\u001b[0m \u001b[39mprint\u001b[39m(\u001b[39m10\u001b[39;49m\u001b[39m/\u001b[39;49mvalue)\n",
      "\u001b[1;31mTypeError\u001b[0m: unsupported operand type(s) for /: 'int' and 'str'"
     ]
    }
   ],
   "source": [
    "value = input(\"\")\n",
    "print(10/value)"
   ]
  },
  {
   "cell_type": "code",
   "execution_count": 43,
   "metadata": {},
   "outputs": [
    {
     "data": {
      "text/plain": [
       "(0, 3, 1)"
      ]
     },
     "execution_count": 43,
     "metadata": {},
     "output_type": "execute_result"
    }
   ],
   "source": [
    "def funs(x,y,z):\n",
    "    return x,y,z\n",
    "\n",
    "funs(0,z=1,y=3)"
   ]
  },
  {
   "cell_type": "code",
   "execution_count": 49,
   "metadata": {},
   "outputs": [
    {
     "name": "stdout",
     "output_type": "stream",
     "text": [
      "(2, 2)\n"
     ]
    }
   ],
   "source": [
    "def f(x=1,y=2):\n",
    "    x+= 1\n",
    "    return x,y\n",
    "\n",
    "\n",
    "print(f(x=1))"
   ]
  },
  {
   "cell_type": "code",
   "execution_count": 50,
   "metadata": {},
   "outputs": [
    {
     "ename": "TypeError",
     "evalue": "unsupported operand type(s) for +: 'NoneType' and 'NoneType'",
     "output_type": "error",
     "traceback": [
      "\u001b[1;31m---------------------------------------------------------------------------\u001b[0m",
      "\u001b[1;31mTypeError\u001b[0m                                 Traceback (most recent call last)",
      "\u001b[1;32mc:\\DevOps\\Code\\G_test\\char_prep.ipynb Cell 10\u001b[0m line \u001b[0;36m1\n\u001b[1;32m----> <a href='vscode-notebook-cell:/c%3A/DevOps/Code/G_test/char_prep.ipynb#X22sZmlsZQ%3D%3D?line=0'>1</a>\u001b[0m \u001b[39mprint\u001b[39m(\u001b[39mNone\u001b[39;49;00m \u001b[39m+\u001b[39;49m \u001b[39mNone\u001b[39;49;00m)\n",
      "\u001b[1;31mTypeError\u001b[0m: unsupported operand type(s) for +: 'NoneType' and 'NoneType'"
     ]
    }
   ],
   "source": [
    "print(None + None)"
   ]
  },
  {
   "cell_type": "code",
   "execution_count": 59,
   "metadata": {},
   "outputs": [
    {
     "name": "stdout",
     "output_type": "stream",
     "text": [
      "('a',)\n",
      "('b',)\n",
      "('c',)\n"
     ]
    }
   ],
   "source": [
    "dict= {}\n",
    "lis = ['a','b','c','d']\n",
    "\n",
    "for i in range(len(lis) - 1):\n",
    "    dict[lis[i]]= (lis[i],)\n",
    "\n",
    "for i in sorted(dict.keys()):\n",
    "    k = dict[i]\n",
    "    print(k)"
   ]
  },
  {
   "cell_type": "code",
   "execution_count": null,
   "metadata": {},
   "outputs": [],
   "source": []
  }
 ],
 "metadata": {
  "kernelspec": {
   "display_name": "venv",
   "language": "python",
   "name": "python3"
  },
  "language_info": {
   "codemirror_mode": {
    "name": "ipython",
    "version": 3
   },
   "file_extension": ".py",
   "mimetype": "text/x-python",
   "name": "python",
   "nbconvert_exporter": "python",
   "pygments_lexer": "ipython3",
   "version": "3.11.9"
  }
 },
 "nbformat": 4,
 "nbformat_minor": 2
}
